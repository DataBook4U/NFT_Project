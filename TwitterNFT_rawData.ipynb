{
  "nbformat": 4,
  "nbformat_minor": 0,
  "metadata": {
    "colab": {
      "provenance": [],
      "authorship_tag": "ABX9TyPTc4fUPEcerGFJSLWn07W7",
      "include_colab_link": true
    },
    "kernelspec": {
      "name": "python3",
      "display_name": "Python 3"
    },
    "language_info": {
      "name": "python"
    }
  },
  "cells": [
    {
      "cell_type": "markdown",
      "metadata": {
        "id": "view-in-github",
        "colab_type": "text"
      },
      "source": [
        "<a href=\"https://colab.research.google.com/github/DataBook4U/NFT_Project/blob/master/TwitterNFT_rawData.ipynb\" target=\"_parent\"><img src=\"https://colab.research.google.com/assets/colab-badge.svg\" alt=\"Open In Colab\"/></a>"
      ]
    },
    {
      "cell_type": "code",
      "execution_count": 1,
      "metadata": {
        "colab": {
          "base_uri": "https://localhost:8080/"
        },
        "id": "W3sNWKpqZ2l7",
        "outputId": "c70f4302-908a-41ef-c4d4-7d2a2b685300"
      },
      "outputs": [
        {
          "output_type": "stream",
          "name": "stdout",
          "text": [
            "Looking in indexes: https://pypi.org/simple, https://us-python.pkg.dev/colab-wheels/public/simple/\n",
            "Collecting snscrape\n",
            "  Downloading snscrape-0.5.0.20230113-py3-none-any.whl (69 kB)\n",
            "\u001b[2K     \u001b[90m━━━━━━━━━━━━━━━━━━━━━━━━━━━━━━━━━━━━━━━━\u001b[0m \u001b[32m69.2/69.2 KB\u001b[0m \u001b[31m2.2 MB/s\u001b[0m eta \u001b[36m0:00:00\u001b[0m\n",
            "\u001b[?25hRequirement already satisfied: filelock in /usr/local/lib/python3.8/dist-packages (from snscrape) (3.9.0)\n",
            "Requirement already satisfied: beautifulsoup4 in /usr/local/lib/python3.8/dist-packages (from snscrape) (4.6.3)\n",
            "Requirement already satisfied: requests[socks] in /usr/local/lib/python3.8/dist-packages (from snscrape) (2.25.1)\n",
            "Requirement already satisfied: pytz in /usr/local/lib/python3.8/dist-packages (from snscrape) (2022.7.1)\n",
            "Requirement already satisfied: lxml in /usr/local/lib/python3.8/dist-packages (from snscrape) (4.9.2)\n",
            "Requirement already satisfied: chardet<5,>=3.0.2 in /usr/local/lib/python3.8/dist-packages (from requests[socks]->snscrape) (4.0.0)\n",
            "Requirement already satisfied: urllib3<1.27,>=1.21.1 in /usr/local/lib/python3.8/dist-packages (from requests[socks]->snscrape) (1.24.3)\n",
            "Requirement already satisfied: certifi>=2017.4.17 in /usr/local/lib/python3.8/dist-packages (from requests[socks]->snscrape) (2022.12.7)\n",
            "Requirement already satisfied: idna<3,>=2.5 in /usr/local/lib/python3.8/dist-packages (from requests[socks]->snscrape) (2.10)\n",
            "Requirement already satisfied: PySocks!=1.5.7,>=1.5.6 in /usr/local/lib/python3.8/dist-packages (from requests[socks]->snscrape) (1.7.1)\n",
            "Installing collected packages: snscrape\n",
            "Successfully installed snscrape-0.5.0.20230113\n",
            "Looking in indexes: https://pypi.org/simple, https://us-python.pkg.dev/colab-wheels/public/simple/\n",
            "Requirement already satisfied: scipy in /usr/local/lib/python3.8/dist-packages (1.7.3)\n",
            "Requirement already satisfied: numpy<1.23.0,>=1.16.5 in /usr/local/lib/python3.8/dist-packages (from scipy) (1.21.6)\n",
            "Looking in indexes: https://pypi.org/simple, https://us-python.pkg.dev/colab-wheels/public/simple/\n",
            "Collecting transformers\n",
            "  Downloading transformers-4.26.1-py3-none-any.whl (6.3 MB)\n",
            "\u001b[2K     \u001b[90m━━━━━━━━━━━━━━━━━━━━━━━━━━━━━━━━━━━━━━━━\u001b[0m \u001b[32m6.3/6.3 MB\u001b[0m \u001b[31m47.9 MB/s\u001b[0m eta \u001b[36m0:00:00\u001b[0m\n",
            "\u001b[?25hRequirement already satisfied: packaging>=20.0 in /usr/local/lib/python3.8/dist-packages (from transformers) (23.0)\n",
            "Requirement already satisfied: tqdm>=4.27 in /usr/local/lib/python3.8/dist-packages (from transformers) (4.64.1)\n",
            "Collecting huggingface-hub<1.0,>=0.11.0\n",
            "  Downloading huggingface_hub-0.12.0-py3-none-any.whl (190 kB)\n",
            "\u001b[2K     \u001b[90m━━━━━━━━━━━━━━━━━━━━━━━━━━━━━━━━━━━━━━\u001b[0m \u001b[32m190.3/190.3 KB\u001b[0m \u001b[31m13.7 MB/s\u001b[0m eta \u001b[36m0:00:00\u001b[0m\n",
            "\u001b[?25hRequirement already satisfied: pyyaml>=5.1 in /usr/local/lib/python3.8/dist-packages (from transformers) (6.0)\n",
            "Requirement already satisfied: requests in /usr/local/lib/python3.8/dist-packages (from transformers) (2.25.1)\n",
            "Collecting tokenizers!=0.11.3,<0.14,>=0.11.1\n",
            "  Downloading tokenizers-0.13.2-cp38-cp38-manylinux_2_17_x86_64.manylinux2014_x86_64.whl (7.6 MB)\n",
            "\u001b[2K     \u001b[90m━━━━━━━━━━━━━━━━━━━━━━━━━━━━━━━━━━━━━━━━\u001b[0m \u001b[32m7.6/7.6 MB\u001b[0m \u001b[31m80.2 MB/s\u001b[0m eta \u001b[36m0:00:00\u001b[0m\n",
            "\u001b[?25hRequirement already satisfied: numpy>=1.17 in /usr/local/lib/python3.8/dist-packages (from transformers) (1.21.6)\n",
            "Requirement already satisfied: filelock in /usr/local/lib/python3.8/dist-packages (from transformers) (3.9.0)\n",
            "Requirement already satisfied: regex!=2019.12.17 in /usr/local/lib/python3.8/dist-packages (from transformers) (2022.6.2)\n",
            "Requirement already satisfied: typing-extensions>=3.7.4.3 in /usr/local/lib/python3.8/dist-packages (from huggingface-hub<1.0,>=0.11.0->transformers) (4.4.0)\n",
            "Requirement already satisfied: idna<3,>=2.5 in /usr/local/lib/python3.8/dist-packages (from requests->transformers) (2.10)\n",
            "Requirement already satisfied: urllib3<1.27,>=1.21.1 in /usr/local/lib/python3.8/dist-packages (from requests->transformers) (1.24.3)\n",
            "Requirement already satisfied: chardet<5,>=3.0.2 in /usr/local/lib/python3.8/dist-packages (from requests->transformers) (4.0.0)\n",
            "Requirement already satisfied: certifi>=2017.4.17 in /usr/local/lib/python3.8/dist-packages (from requests->transformers) (2022.12.7)\n",
            "Installing collected packages: tokenizers, huggingface-hub, transformers\n",
            "Successfully installed huggingface-hub-0.12.0 tokenizers-0.13.2 transformers-4.26.1\n"
          ]
        }
      ],
      "source": [
        "!pip install snscrape\n",
        "!pip install scipy\n",
        "!pip install transformers"
      ]
    },
    {
      "cell_type": "code",
      "source": [
        "import snscrape.modules.twitter as sntwitter\n",
        "import pandas as pd\n",
        "import matplotlib.pyplot as plt\n",
        "\n",
        "from transformers import AutoTokenizer, AutoModelForSequenceClassification\n",
        "from scipy.special import softmax"
      ],
      "metadata": {
        "id": "SkeLztEpaDgv"
      },
      "execution_count": 3,
      "outputs": []
    },
    {
      "cell_type": "code",
      "source": [
        "queries = [\"(from:tate) until:2023-02-01 since:2020-01-01\",  #Tate Museum, London\n",
        "          \"(from:MuseumModernArt) until:2023-02-01 since:2020-01-01\",  #Museum of Modern Art, New York\n",
        "          \"(from:SFMOMA) until:2023-02-01 since:2020-01-01\",  #Museum of Modern Art, San Francisco\n",
        "          \"(from:metmuseum) until:2023-02-01 since:2020-01-01\",  #Metropolitan Museum of Art, New York\n",
        "          \"(from:GettyMuseum) until:2023-02-01 since:2020-01-01\",  #Getty Museum, Los Angeles\n",
        "          \"(from:WomenInTheArts) until:2023-02-01 since:2020-01-01\",  #National Museum of Women in the Arts\n",
        "          \"(from:hirshhorn) until:2023-02-01 since:2020-01-01\",  #Hirshorn Museum of modern & contemporary art\n",
        "          \"(from:MOCAlosangeles) until:2023-02-01 since:2020-01-01\",  #MOCA, Los Angeles\n",
        "          \"(from:CentrePompidou) until:2023-02-01 since:2020-01-01\", #Centre Pompidou, Paris\n",
        "          \"(from:acropolismuseum) until:2023-02-01 since:2020-01-01\", #Acropolis Museum, Athens\n",
        "          \"(from:hermitage_eng) until:2023-02-01 since:2020-01-01\", #The State Hermitage, St.-Petersburg\n",
        "          \"(from:UffiziGalleries) until:2023-02-01 since:2020-01-01\", #The Uffizi Gallery, Florence\n",
        "          \"(from:rijksmuseum) until:2023-02-01 since:2020-01-01\", #The Rijks Museum, Amsterdam\n",
        "          \"(from:MuseeOrsay) until:2023-02-01 since:2020-01-01\", #Musée d'Orsay\n",
        "          \"(from:MuseoGuggenheim) until:2023-02-01 since:2020-01-01\", #Guggenheim Museum, Bilbao\n",
        "          \"(from:museoreinasofia) until:2023-02-01 since:2020-01-01\", #Museo Reina Sofiá\n",
        "          \"(from:Stedelijk) until:2023-02-01 since:2020-01-01\", #Stedelijk Museum\n",
        "          \"(from:artinstitutechi) until:2023-02-01 since:2020-01-01\", #The Art Institue of Chicago\n",
        "          \"(from:MCA_Australia) until:2023-02-01 since:2020-01-01\", #MCA Australia\n",
        "          \"(from:museofridakahlo) until:2023-02-01 since:2020-01-01\" #Frida Kahlo Museum, Mexico\n",
        "          ]  \n",
        "\n",
        "\n",
        "tweets = []\n",
        "limit = 80000\n",
        "\n",
        "for query in queries:\n",
        "  for tweet in sntwitter.TwitterSearchScraper(query).get_items():\n",
        "      if len(tweets) == limit:\n",
        "        break\n",
        "      else:\n",
        "        tweets.append([tweet.date, tweet.username, tweet.content])\n",
        "\n",
        "df = pd.DataFrame(tweets, columns=['Date', 'User', 'Tweet'])\n",
        "\n",
        "#Data to csv:\n",
        "df.to_csv(r'Data')"
      ],
      "metadata": {
        "colab": {
          "base_uri": "https://localhost:8080/"
        },
        "id": "Wryc3CEHaMBu",
        "outputId": "d8d942cc-1df5-4200-806a-d1a6d99766b4"
      },
      "execution_count": 4,
      "outputs": [
        {
          "output_type": "stream",
          "name": "stderr",
          "text": [
            "<ipython-input-4-f2b3921ce773>:32: FutureWarning: username is deprecated, use user.username instead\n",
            "  tweets.append([tweet.date, tweet.username, tweet.content])\n",
            "<ipython-input-4-f2b3921ce773>:32: FutureWarning: content is deprecated, use rawContent instead\n",
            "  tweets.append([tweet.date, tweet.username, tweet.content])\n"
          ]
        }
      ]
    },
    {
      "cell_type": "code",
      "source": [],
      "metadata": {
        "id": "MpUm5JITiVhN"
      },
      "execution_count": null,
      "outputs": []
    }
  ]
}